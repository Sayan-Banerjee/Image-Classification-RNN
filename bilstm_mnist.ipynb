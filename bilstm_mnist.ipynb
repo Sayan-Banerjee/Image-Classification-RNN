{
 "cells": [
  {
   "cell_type": "code",
   "execution_count": 1,
   "metadata": {},
   "outputs": [
    {
     "name": "stderr",
     "output_type": "stream",
     "text": [
      "Using TensorFlow backend.\n"
     ]
    }
   ],
   "source": [
    "import os\n",
    "from keras.models import Model\n",
    "from keras.layers import Input, LSTM, GRU, Bidirectional, GlobalMaxPooling1D, Lambda, Concatenate, Dense\n",
    "import keras.backend as K\n",
    "import numpy as np\n",
    "import pandas as pd\n",
    "import matplotlib.pyplot as plt\n",
    "%matplotlib inline"
   ]
  },
  {
   "cell_type": "code",
   "execution_count": 2,
   "metadata": {},
   "outputs": [],
   "source": [
    "# if len(K.tensorflow_backend._get_available_gpus()) > 0:\n",
    "#     from keras.layers import CuDNNLSTM as LSTM\n",
    "#     from keras.layers import CuDNNGRU as GRU"
   ]
  },
  {
   "cell_type": "markdown",
   "metadata": {},
   "source": [
    "### Validation for Data Path and Reading the Data"
   ]
  },
  {
   "cell_type": "code",
   "execution_count": 3,
   "metadata": {},
   "outputs": [],
   "source": [
    "def get_mnist(limit=None):\n",
    "    if not os.path.exists('./data-files'):\n",
    "        print(\"You must create a folder called large_files adjacent to the current enclosing folder first.\")\n",
    "    if not os.path.exists('./data-files/DigitRecognizer/train.csv'):\n",
    "        print(\"Looks like you haven't downloaded the data or it's not in the right spot.\")\n",
    "        print(\"Please get train.csv from https://www.kaggle.com/c/digit-recognizer\")\n",
    "        print(\"and place it in the data-files/DigitRecognizer path.\")\n",
    "    print(\"Reading in and transforming data...\")\n",
    "    df = pd.read_csv('./data-files/DigitRecognizer/train.csv')\n",
    "    data = df.values\n",
    "    np.random.shuffle(data)\n",
    "    X = data[:, 1:].reshape(-1, 28, 28) / 255.0 # data is from 0..255\n",
    "    Y = data[:, 0]\n",
    "    if limit is not None:\n",
    "        X, Y = X[:limit], Y[:limit]\n",
    "    return X, Y"
   ]
  },
  {
   "cell_type": "markdown",
   "metadata": {},
   "source": [
    "#### Get data"
   ]
  },
  {
   "cell_type": "code",
   "execution_count": 4,
   "metadata": {},
   "outputs": [
    {
     "name": "stdout",
     "output_type": "stream",
     "text": [
      "Reading in and transforming data...\n"
     ]
    }
   ],
   "source": [
    "X, Y = get_mnist()"
   ]
  },
  {
   "cell_type": "markdown",
   "metadata": {},
   "source": [
    "### Configuration parameters"
   ]
  },
  {
   "cell_type": "code",
   "execution_count": 5,
   "metadata": {},
   "outputs": [],
   "source": [
    "D = 28\n",
    "M = 15"
   ]
  },
  {
   "cell_type": "markdown",
   "metadata": {},
   "source": [
    "### input is an image of size 28x28, inits original form"
   ]
  },
  {
   "cell_type": "code",
   "execution_count": 6,
   "metadata": {},
   "outputs": [],
   "source": [
    "input_ = Input(shape=(D, D))"
   ]
  },
  {
   "cell_type": "markdown",
   "metadata": {},
   "source": [
    "### Passing the original input through RNN"
   ]
  },
  {
   "cell_type": "code",
   "execution_count": 7,
   "metadata": {},
   "outputs": [],
   "source": [
    "rnn1 = Bidirectional(LSTM(M, return_sequences=True))\n",
    "x1 = rnn1(input_) # output is N x D x 2M\n",
    "x1 = GlobalMaxPooling1D()(x1) # output is N x 2M"
   ]
  },
  {
   "cell_type": "markdown",
   "metadata": {},
   "source": [
    "### Another Set of RNN to go through the image sideways"
   ]
  },
  {
   "cell_type": "code",
   "execution_count": 8,
   "metadata": {},
   "outputs": [],
   "source": [
    "rnn2 = Bidirectional(LSTM(M, return_sequences=True))"
   ]
  },
  {
   "cell_type": "markdown",
   "metadata": {},
   "source": [
    "### Custom layer to Rotate an Image"
   ]
  },
  {
   "cell_type": "code",
   "execution_count": 9,
   "metadata": {},
   "outputs": [],
   "source": [
    "permutor = Lambda(lambda t: K.permute_dimensions(t, pattern=(0, 2, 1)))\n",
    "x2 = permutor(input_)"
   ]
  },
  {
   "cell_type": "markdown",
   "metadata": {},
   "source": [
    "### Passing the rotated image through the 2nd RNN Layer"
   ]
  },
  {
   "cell_type": "code",
   "execution_count": 10,
   "metadata": {},
   "outputs": [],
   "source": [
    "x2 = rnn2(x2) # output is N x D x 2M\n",
    "x2 = GlobalMaxPooling1D()(x2) # output is N x 2M"
   ]
  },
  {
   "cell_type": "markdown",
   "metadata": {},
   "source": [
    "### Putting the outputs from 2 separate RNN together"
   ]
  },
  {
   "cell_type": "code",
   "execution_count": 11,
   "metadata": {},
   "outputs": [],
   "source": [
    "concatenator = Concatenate(axis=1)\n",
    "x = concatenator([x1, x2]) # output is N x 4M"
   ]
  },
  {
   "cell_type": "markdown",
   "metadata": {},
   "source": [
    "### Final dense layer"
   ]
  },
  {
   "cell_type": "code",
   "execution_count": 12,
   "metadata": {},
   "outputs": [],
   "source": [
    "output = Dense(10, activation='softmax')(x)"
   ]
  },
  {
   "cell_type": "markdown",
   "metadata": {},
   "source": [
    "### The Model Class"
   ]
  },
  {
   "cell_type": "code",
   "execution_count": 13,
   "metadata": {},
   "outputs": [],
   "source": [
    "model = Model(inputs=input_, outputs=output)\n",
    "model.compile(\n",
    "  loss='sparse_categorical_crossentropy',\n",
    "  optimizer='adam',\n",
    "  metrics=['accuracy']\n",
    ")"
   ]
  },
  {
   "cell_type": "code",
   "execution_count": 14,
   "metadata": {},
   "outputs": [
    {
     "name": "stdout",
     "output_type": "stream",
     "text": [
      "Model: \"model_1\"\n",
      "__________________________________________________________________________________________________\n",
      "Layer (type)                    Output Shape         Param #     Connected to                     \n",
      "==================================================================================================\n",
      "input_1 (InputLayer)            (None, 28, 28)       0                                            \n",
      "__________________________________________________________________________________________________\n",
      "lambda_1 (Lambda)               (None, 28, 28)       0           input_1[0][0]                    \n",
      "__________________________________________________________________________________________________\n",
      "bidirectional_1 (Bidirectional) (None, 28, 30)       5280        input_1[0][0]                    \n",
      "__________________________________________________________________________________________________\n",
      "bidirectional_2 (Bidirectional) (None, 28, 30)       5280        lambda_1[0][0]                   \n",
      "__________________________________________________________________________________________________\n",
      "global_max_pooling1d_1 (GlobalM (None, 30)           0           bidirectional_1[0][0]            \n",
      "__________________________________________________________________________________________________\n",
      "global_max_pooling1d_2 (GlobalM (None, 30)           0           bidirectional_2[0][0]            \n",
      "__________________________________________________________________________________________________\n",
      "concatenate_1 (Concatenate)     (None, 60)           0           global_max_pooling1d_1[0][0]     \n",
      "                                                                 global_max_pooling1d_2[0][0]     \n",
      "__________________________________________________________________________________________________\n",
      "dense_1 (Dense)                 (None, 10)           610         concatenate_1[0][0]              \n",
      "==================================================================================================\n",
      "Total params: 11,170\n",
      "Trainable params: 11,170\n",
      "Non-trainable params: 0\n",
      "__________________________________________________________________________________________________\n"
     ]
    }
   ],
   "source": [
    "model.summary()"
   ]
  },
  {
   "cell_type": "markdown",
   "metadata": {},
   "source": [
    "### Training"
   ]
  },
  {
   "cell_type": "code",
   "execution_count": 15,
   "metadata": {},
   "outputs": [
    {
     "name": "stdout",
     "output_type": "stream",
     "text": [
      "Training model...\n",
      "Train on 33600 samples, validate on 8400 samples\n",
      "Epoch 1/20\n",
      "33600/33600 [==============================] - 31s 922us/step - loss: 0.6996 - accuracy: 0.8156 - val_loss: 0.2759 - val_accuracy: 0.9242\n",
      "Epoch 2/20\n",
      "33600/33600 [==============================] - 30s 886us/step - loss: 0.2228 - accuracy: 0.9385 - val_loss: 0.1889 - val_accuracy: 0.9440\n",
      "Epoch 3/20\n",
      "33600/33600 [==============================] - 30s 891us/step - loss: 0.1649 - accuracy: 0.9532 - val_loss: 0.1587 - val_accuracy: 0.9536\n",
      "Epoch 4/20\n",
      "33600/33600 [==============================] - 30s 890us/step - loss: 0.1329 - accuracy: 0.9612 - val_loss: 0.1345 - val_accuracy: 0.9592\n",
      "Epoch 5/20\n",
      "33600/33600 [==============================] - 30s 891us/step - loss: 0.1137 - accuracy: 0.9659 - val_loss: 0.1338 - val_accuracy: 0.9605\n",
      "Epoch 6/20\n",
      "33600/33600 [==============================] - 30s 897us/step - loss: 0.0985 - accuracy: 0.9701 - val_loss: 0.1058 - val_accuracy: 0.9671\n",
      "Epoch 7/20\n",
      "33600/33600 [==============================] - 30s 908us/step - loss: 0.0887 - accuracy: 0.9732 - val_loss: 0.1025 - val_accuracy: 0.9693\n",
      "Epoch 8/20\n",
      "33600/33600 [==============================] - 30s 907us/step - loss: 0.0802 - accuracy: 0.9751 - val_loss: 0.1015 - val_accuracy: 0.9671\n",
      "Epoch 9/20\n",
      "33600/33600 [==============================] - 56s 2ms/step - loss: 0.0730 - accuracy: 0.9778 - val_loss: 0.0884 - val_accuracy: 0.9729\n",
      "Epoch 10/20\n",
      "33600/33600 [==============================] - 30s 899us/step - loss: 0.0662 - accuracy: 0.9799 - val_loss: 0.0790 - val_accuracy: 0.9765\n",
      "Epoch 11/20\n",
      "33600/33600 [==============================] - 31s 921us/step - loss: 0.0593 - accuracy: 0.9829 - val_loss: 0.0783 - val_accuracy: 0.9755\n",
      "Epoch 12/20\n",
      "33600/33600 [==============================] - 32s 954us/step - loss: 0.0548 - accuracy: 0.9840 - val_loss: 0.0782 - val_accuracy: 0.9755\n",
      "Epoch 13/20\n",
      "33600/33600 [==============================] - 31s 921us/step - loss: 0.0524 - accuracy: 0.9842 - val_loss: 0.0834 - val_accuracy: 0.9744\n",
      "Epoch 14/20\n",
      "33600/33600 [==============================] - 30s 883us/step - loss: 0.0475 - accuracy: 0.9854 - val_loss: 0.0802 - val_accuracy: 0.9744\n",
      "Epoch 15/20\n",
      "33600/33600 [==============================] - 30s 884us/step - loss: 0.0425 - accuracy: 0.9874 - val_loss: 0.0702 - val_accuracy: 0.9782\n",
      "Epoch 16/20\n",
      "33600/33600 [==============================] - 29s 874us/step - loss: 0.0422 - accuracy: 0.9870 - val_loss: 0.0688 - val_accuracy: 0.9781\n",
      "Epoch 17/20\n",
      "33600/33600 [==============================] - 30s 884us/step - loss: 0.0395 - accuracy: 0.9886 - val_loss: 0.0699 - val_accuracy: 0.9790\n",
      "Epoch 18/20\n",
      "33600/33600 [==============================] - 33s 983us/step - loss: 0.0349 - accuracy: 0.9897 - val_loss: 0.0719 - val_accuracy: 0.9783\n",
      "Epoch 19/20\n",
      "33600/33600 [==============================] - 30s 900us/step - loss: 0.0341 - accuracy: 0.9896 - val_loss: 0.0673 - val_accuracy: 0.9790\n",
      "Epoch 20/20\n",
      "33600/33600 [==============================] - 31s 914us/step - loss: 0.0324 - accuracy: 0.9899 - val_loss: 0.0683 - val_accuracy: 0.9793\n"
     ]
    }
   ],
   "source": [
    "print('Training model...')\n",
    "r = model.fit(X, Y, batch_size=32, epochs=20, validation_split=0.2)"
   ]
  },
  {
   "cell_type": "markdown",
   "metadata": {},
   "source": [
    "### Plot some data\n",
    "\n",
    "#### Training and Validation Losses"
   ]
  },
  {
   "cell_type": "code",
   "execution_count": 16,
   "metadata": {},
   "outputs": [
    {
     "data": {
      "image/png": "[encoded data removed]",
      "text/plain": [
       "<Figure size 432x288 with 1 Axes>"
      ]
     },
     "metadata": {
      "needs_background": "light"
     },
     "output_type": "display_data"
    }
   ],
   "source": [
    "plt.plot(r.history['loss'], label='loss')\n",
    "plt.plot(r.history['val_loss'], label='val_loss')\n",
    "plt.legend()\n",
    "plt.show()"
   ]
  },
  {
   "cell_type": "markdown",
   "metadata": {},
   "source": [
    "#### Training and Validation Accuracies"
   ]
  },
  {
   "cell_type": "code",
   "execution_count": 17,
   "metadata": {},
   "outputs": [
    {
     "data": {
      "image/png": "[encoded data removed]",
      "text/plain": [
       "<Figure size 432x288 with 1 Axes>"
      ]
     },
     "metadata": {
      "needs_background": "light"
     },
     "output_type": "display_data"
    }
   ],
   "source": [
    "plt.plot(r.history['accuracy'], label='acc')\n",
    "plt.plot(r.history['val_accuracy'], label='val_acc')\n",
    "plt.legend()\n",
    "plt.show()"
   ]
  },
  {
   "cell_type": "code",
   "execution_count": null,
   "metadata": {},
   "outputs": [],
   "source": []
  }
 ],
 "metadata": {
  "anaconda-cloud": {},
  "kernelspec": {
   "display_name": "Python [conda env:UNLPND]",
   "language": "python",
   "name": "conda-env-UNLPND-py"
  },
  "language_info": {
   "codemirror_mode": {
    "name": "ipython",
    "version": 3
   },
   "file_extension": ".py",
   "mimetype": "text/x-python",
   "name": "python",
   "nbconvert_exporter": "python",
   "pygments_lexer": "ipython3",
   "version": "3.6.10"
  }
 },
 "nbformat": 4,
 "nbformat_minor": 2
}
